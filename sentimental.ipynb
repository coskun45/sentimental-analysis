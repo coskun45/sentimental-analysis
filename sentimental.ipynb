{
 "cells": [
  {
   "cell_type": "code",
   "execution_count": 30,
   "metadata": {},
   "outputs": [],
   "source": [
    "import pandas as pd\n",
    "import numpy as np"
   ]
  },
  {
   "cell_type": "markdown",
   "metadata": {},
   "source": [
    "datayi okuma"
   ]
  },
  {
   "cell_type": "code",
   "execution_count": 31,
   "metadata": {},
   "outputs": [],
   "source": [
    "\n",
    "yorumlar=pd.read_csv('bilkav.com_Restaurant_Reviews.csv', )"
   ]
  },
  {
   "cell_type": "markdown",
   "metadata": {},
   "source": [
    "Preprocessing"
   ]
  },
  {
   "cell_type": "code",
   "execution_count": 47,
   "metadata": {},
   "outputs": [],
   "source": [
    "from nltk.corpus import stopwords\n",
    "from nltk.stem import PorterStemmer\n",
    "import re\n",
    "\n",
    "# Porter Stemmer nesnesini oluşturun\n",
    "ps = PorterStemmer()\n",
    "\n",
    "derlem=[]\n",
    "for i in range(1000):\n",
    "    yorumRegex=re.sub('[^a-zA-Z]',' ',yorumlar['Review'][i])#yorumlar degiskenin Review sütunun 0. satirina bu  (a-zA-Z icermeyenleri '' ile degistir ) regular expresion u uygula. noktalama isaretlerinden arindir\n",
    "    yorumLower=yorumRegex.lower()#hepsini kücük harfe döndür\n",
    "    yorumSplit=yorumLower.split()# cümleyi bosluga göre split edip her bir kelimeye listeye atadi\n",
    "\n",
    "    # Stop kelimelerini ve köklerini alın\n",
    "    yorumWithoutStopwords = [ps.stem(kelime) for kelime in yorumSplit if kelime not in set(stopwords.words('english'))]# yorum listesinin bütün elemanlarini dolasacak. stop words ise atacak, degilse kelimenin kök(step) ünü bulacak ve yeni bir liste döndürecek\n",
    "    yorum= ' '.join(yorumWithoutStopwords)# tekrar string olusturdu\n",
    "    derlem.append(yorum)# satirlari tekrar bir listeye ata\n",
    "\n"
   ]
  },
  {
   "cell_type": "markdown",
   "metadata": {},
   "source": [
    "Feature Extraction\n",
    "    - Bag of Words(BOW) -> kelime cantalari olusturdu"
   ]
  },
  {
   "cell_type": "code",
   "execution_count": 57,
   "metadata": {},
   "outputs": [],
   "source": [
    "from sklearn.feature_extraction.text import CountVectorizer#Metin verilerini sayısal özelliklere dönüştürmek için kullanılır\n",
    "cv=CountVectorizer(max_features=2000)# en fazla kullanilan 2000 tane kelimeyi al\n",
    "\n",
    "X=cv.fit_transform(derlem).toarray()#bagimsiz degisken.fit_transform: hem train ediyor,hemde dönüstürüyor. Burada 2000(kelimeler)x 1000(cümleler): cümelede gecen kelimeler 1 digerleri 0 oluyor. yani her cümle icin 2000 tane feature cikartmis oldu\n",
    "y=yorumlar.iloc[:,1].values #bagimli degisken. bütün satirlari ve 2. sütun u al"
   ]
  },
  {
   "cell_type": "markdown",
   "metadata": {},
   "source": [
    "Machine Learning"
   ]
  },
  {
   "cell_type": "code",
   "execution_count": 58,
   "metadata": {},
   "outputs": [
    {
     "name": "stdout",
     "output_type": "stream",
     "text": [
      "[[52 44]\n",
      " [11 93]]\n"
     ]
    }
   ],
   "source": [
    "from sklearn.model_selection import train_test_split\n",
    "# Train Test split\n",
    "X_train, X_test, y_train, y_test=train_test_split(X,y,test_size=0.2,random_state=0)\n",
    "\n",
    "# classification Algoritmasi ile train\n",
    "from sklearn.naive_bayes import GaussianNB\n",
    "gnb=GaussianNB()\n",
    "gnb.fit(X_train,y_train)\n",
    "\n",
    "# prediction\n",
    "y_pred=gnb.predict(X_test)# algoritma ile tahmin et\n",
    "\n",
    "#karsilastir\n",
    "from sklearn.metrics import confusion_matrix\n",
    "cm=confusion_matrix(y_test,y_pred)\n",
    "print(cm)# %72,5 accuracy\n",
    "\n"
   ]
  }
 ],
 "metadata": {
  "kernelspec": {
   "display_name": "Python 3",
   "language": "python",
   "name": "python3"
  },
  "language_info": {
   "codemirror_mode": {
    "name": "ipython",
    "version": 3
   },
   "file_extension": ".py",
   "mimetype": "text/x-python",
   "name": "python",
   "nbconvert_exporter": "python",
   "pygments_lexer": "ipython3",
   "version": "3.11.2"
  },
  "orig_nbformat": 4
 },
 "nbformat": 4,
 "nbformat_minor": 2
}
